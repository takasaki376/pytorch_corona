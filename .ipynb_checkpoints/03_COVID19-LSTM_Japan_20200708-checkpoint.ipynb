{
 "cells": [
  {
   "cell_type": "code",
   "execution_count": 18,
   "metadata": {},
   "outputs": [
    {
     "name": "stderr",
     "output_type": "stream",
     "text": [
      "C:\\Users\\takasaki\\Anaconda3\\envs\\matplotlib\\lib\\site-packages\\japanize_matplotlib\\japanize_matplotlib.py:15: MatplotlibDeprecationWarning: \n",
      "The createFontList function was deprecated in Matplotlib 3.2 and will be removed two minor releases later. Use FontManager.addfont instead.\n",
      "  font_list = font_manager.createFontList(font_files)\n"
     ]
    }
   ],
   "source": [
    "import torch\n",
    "import torch.nn as nn\n",
    "import seaborn as sns\n",
    "import numpy as np\n",
    "import pandas as pd\n",
    "import matplotlib.pyplot as plt\n",
    "import japanize_matplotlib\n",
    "get_ipython().run_line_magic('matplotlib', 'inline')\n",
    "\n",
    "import datetime\n",
    "from pandas.plotting import register_matplotlib_converters\n",
    "from sklearn.preprocessing import MinMaxScaler"
   ]
  },
  {
   "cell_type": "code",
   "execution_count": 2,
   "metadata": {},
   "outputs": [],
   "source": [
    "df = pd.read_csv('time_series_covid19_confirmed_global_20200708.csv')"
   ]
  },
  {
   "cell_type": "code",
   "execution_count": 3,
   "metadata": {},
   "outputs": [
    {
     "data": {
      "text/html": [
       "<div>\n",
       "<style scoped>\n",
       "    .dataframe tbody tr th:only-of-type {\n",
       "        vertical-align: middle;\n",
       "    }\n",
       "\n",
       "    .dataframe tbody tr th {\n",
       "        vertical-align: top;\n",
       "    }\n",
       "\n",
       "    .dataframe thead th {\n",
       "        text-align: right;\n",
       "    }\n",
       "</style>\n",
       "<table border=\"1\" class=\"dataframe\">\n",
       "  <thead>\n",
       "    <tr style=\"text-align: right;\">\n",
       "      <th></th>\n",
       "      <th>Province/State</th>\n",
       "      <th>Country/Region</th>\n",
       "      <th>Lat</th>\n",
       "      <th>Long</th>\n",
       "      <th>1/22/20</th>\n",
       "      <th>1/23/20</th>\n",
       "      <th>1/24/20</th>\n",
       "      <th>1/25/20</th>\n",
       "      <th>1/26/20</th>\n",
       "      <th>1/27/20</th>\n",
       "      <th>...</th>\n",
       "      <th>6/29/20</th>\n",
       "      <th>6/30/20</th>\n",
       "      <th>7/1/20</th>\n",
       "      <th>7/2/20</th>\n",
       "      <th>7/3/20</th>\n",
       "      <th>7/4/20</th>\n",
       "      <th>7/5/20</th>\n",
       "      <th>7/6/20</th>\n",
       "      <th>7/7/20</th>\n",
       "      <th>7/8/20</th>\n",
       "    </tr>\n",
       "  </thead>\n",
       "  <tbody>\n",
       "    <tr>\n",
       "      <th>0</th>\n",
       "      <td>NaN</td>\n",
       "      <td>Afghanistan</td>\n",
       "      <td>33.000000</td>\n",
       "      <td>65.000000</td>\n",
       "      <td>0</td>\n",
       "      <td>0</td>\n",
       "      <td>0</td>\n",
       "      <td>0</td>\n",
       "      <td>0</td>\n",
       "      <td>0</td>\n",
       "      <td>...</td>\n",
       "      <td>31238</td>\n",
       "      <td>31517</td>\n",
       "      <td>31836</td>\n",
       "      <td>32022</td>\n",
       "      <td>32324</td>\n",
       "      <td>32672</td>\n",
       "      <td>32951</td>\n",
       "      <td>33190</td>\n",
       "      <td>33384</td>\n",
       "      <td>33594</td>\n",
       "    </tr>\n",
       "    <tr>\n",
       "      <th>1</th>\n",
       "      <td>NaN</td>\n",
       "      <td>Albania</td>\n",
       "      <td>41.153300</td>\n",
       "      <td>20.168300</td>\n",
       "      <td>0</td>\n",
       "      <td>0</td>\n",
       "      <td>0</td>\n",
       "      <td>0</td>\n",
       "      <td>0</td>\n",
       "      <td>0</td>\n",
       "      <td>...</td>\n",
       "      <td>2466</td>\n",
       "      <td>2535</td>\n",
       "      <td>2580</td>\n",
       "      <td>2662</td>\n",
       "      <td>2752</td>\n",
       "      <td>2819</td>\n",
       "      <td>2893</td>\n",
       "      <td>2964</td>\n",
       "      <td>3038</td>\n",
       "      <td>3106</td>\n",
       "    </tr>\n",
       "    <tr>\n",
       "      <th>2</th>\n",
       "      <td>NaN</td>\n",
       "      <td>Algeria</td>\n",
       "      <td>28.033900</td>\n",
       "      <td>1.659600</td>\n",
       "      <td>0</td>\n",
       "      <td>0</td>\n",
       "      <td>0</td>\n",
       "      <td>0</td>\n",
       "      <td>0</td>\n",
       "      <td>0</td>\n",
       "      <td>...</td>\n",
       "      <td>13571</td>\n",
       "      <td>13907</td>\n",
       "      <td>14272</td>\n",
       "      <td>14657</td>\n",
       "      <td>15070</td>\n",
       "      <td>15500</td>\n",
       "      <td>15941</td>\n",
       "      <td>16404</td>\n",
       "      <td>16879</td>\n",
       "      <td>17348</td>\n",
       "    </tr>\n",
       "    <tr>\n",
       "      <th>3</th>\n",
       "      <td>NaN</td>\n",
       "      <td>Andorra</td>\n",
       "      <td>42.506300</td>\n",
       "      <td>1.521800</td>\n",
       "      <td>0</td>\n",
       "      <td>0</td>\n",
       "      <td>0</td>\n",
       "      <td>0</td>\n",
       "      <td>0</td>\n",
       "      <td>0</td>\n",
       "      <td>...</td>\n",
       "      <td>855</td>\n",
       "      <td>855</td>\n",
       "      <td>855</td>\n",
       "      <td>855</td>\n",
       "      <td>855</td>\n",
       "      <td>855</td>\n",
       "      <td>855</td>\n",
       "      <td>855</td>\n",
       "      <td>855</td>\n",
       "      <td>855</td>\n",
       "    </tr>\n",
       "    <tr>\n",
       "      <th>4</th>\n",
       "      <td>NaN</td>\n",
       "      <td>Angola</td>\n",
       "      <td>-11.202700</td>\n",
       "      <td>17.873900</td>\n",
       "      <td>0</td>\n",
       "      <td>0</td>\n",
       "      <td>0</td>\n",
       "      <td>0</td>\n",
       "      <td>0</td>\n",
       "      <td>0</td>\n",
       "      <td>...</td>\n",
       "      <td>276</td>\n",
       "      <td>284</td>\n",
       "      <td>291</td>\n",
       "      <td>315</td>\n",
       "      <td>328</td>\n",
       "      <td>346</td>\n",
       "      <td>346</td>\n",
       "      <td>346</td>\n",
       "      <td>386</td>\n",
       "      <td>386</td>\n",
       "    </tr>\n",
       "    <tr>\n",
       "      <th>...</th>\n",
       "      <td>...</td>\n",
       "      <td>...</td>\n",
       "      <td>...</td>\n",
       "      <td>...</td>\n",
       "      <td>...</td>\n",
       "      <td>...</td>\n",
       "      <td>...</td>\n",
       "      <td>...</td>\n",
       "      <td>...</td>\n",
       "      <td>...</td>\n",
       "      <td>...</td>\n",
       "      <td>...</td>\n",
       "      <td>...</td>\n",
       "      <td>...</td>\n",
       "      <td>...</td>\n",
       "      <td>...</td>\n",
       "      <td>...</td>\n",
       "      <td>...</td>\n",
       "      <td>...</td>\n",
       "      <td>...</td>\n",
       "      <td>...</td>\n",
       "    </tr>\n",
       "    <tr>\n",
       "      <th>261</th>\n",
       "      <td>NaN</td>\n",
       "      <td>Sao Tome and Principe</td>\n",
       "      <td>0.186360</td>\n",
       "      <td>6.613081</td>\n",
       "      <td>0</td>\n",
       "      <td>0</td>\n",
       "      <td>0</td>\n",
       "      <td>0</td>\n",
       "      <td>0</td>\n",
       "      <td>0</td>\n",
       "      <td>...</td>\n",
       "      <td>713</td>\n",
       "      <td>714</td>\n",
       "      <td>715</td>\n",
       "      <td>717</td>\n",
       "      <td>719</td>\n",
       "      <td>719</td>\n",
       "      <td>720</td>\n",
       "      <td>721</td>\n",
       "      <td>724</td>\n",
       "      <td>724</td>\n",
       "    </tr>\n",
       "    <tr>\n",
       "      <th>262</th>\n",
       "      <td>NaN</td>\n",
       "      <td>Yemen</td>\n",
       "      <td>15.552727</td>\n",
       "      <td>48.516388</td>\n",
       "      <td>0</td>\n",
       "      <td>0</td>\n",
       "      <td>0</td>\n",
       "      <td>0</td>\n",
       "      <td>0</td>\n",
       "      <td>0</td>\n",
       "      <td>...</td>\n",
       "      <td>1128</td>\n",
       "      <td>1158</td>\n",
       "      <td>1190</td>\n",
       "      <td>1221</td>\n",
       "      <td>1240</td>\n",
       "      <td>1248</td>\n",
       "      <td>1265</td>\n",
       "      <td>1284</td>\n",
       "      <td>1297</td>\n",
       "      <td>1318</td>\n",
       "    </tr>\n",
       "    <tr>\n",
       "      <th>263</th>\n",
       "      <td>NaN</td>\n",
       "      <td>Comoros</td>\n",
       "      <td>-11.645500</td>\n",
       "      <td>43.333300</td>\n",
       "      <td>0</td>\n",
       "      <td>0</td>\n",
       "      <td>0</td>\n",
       "      <td>0</td>\n",
       "      <td>0</td>\n",
       "      <td>0</td>\n",
       "      <td>...</td>\n",
       "      <td>272</td>\n",
       "      <td>303</td>\n",
       "      <td>303</td>\n",
       "      <td>303</td>\n",
       "      <td>309</td>\n",
       "      <td>309</td>\n",
       "      <td>311</td>\n",
       "      <td>311</td>\n",
       "      <td>311</td>\n",
       "      <td>313</td>\n",
       "    </tr>\n",
       "    <tr>\n",
       "      <th>264</th>\n",
       "      <td>NaN</td>\n",
       "      <td>Tajikistan</td>\n",
       "      <td>38.861034</td>\n",
       "      <td>71.276093</td>\n",
       "      <td>0</td>\n",
       "      <td>0</td>\n",
       "      <td>0</td>\n",
       "      <td>0</td>\n",
       "      <td>0</td>\n",
       "      <td>0</td>\n",
       "      <td>...</td>\n",
       "      <td>5900</td>\n",
       "      <td>5900</td>\n",
       "      <td>6005</td>\n",
       "      <td>6058</td>\n",
       "      <td>6058</td>\n",
       "      <td>6159</td>\n",
       "      <td>6213</td>\n",
       "      <td>6262</td>\n",
       "      <td>6315</td>\n",
       "      <td>6364</td>\n",
       "    </tr>\n",
       "    <tr>\n",
       "      <th>265</th>\n",
       "      <td>NaN</td>\n",
       "      <td>Lesotho</td>\n",
       "      <td>-29.609988</td>\n",
       "      <td>28.233608</td>\n",
       "      <td>0</td>\n",
       "      <td>0</td>\n",
       "      <td>0</td>\n",
       "      <td>0</td>\n",
       "      <td>0</td>\n",
       "      <td>0</td>\n",
       "      <td>...</td>\n",
       "      <td>27</td>\n",
       "      <td>27</td>\n",
       "      <td>35</td>\n",
       "      <td>35</td>\n",
       "      <td>35</td>\n",
       "      <td>35</td>\n",
       "      <td>79</td>\n",
       "      <td>91</td>\n",
       "      <td>91</td>\n",
       "      <td>91</td>\n",
       "    </tr>\n",
       "  </tbody>\n",
       "</table>\n",
       "<p>266 rows × 173 columns</p>\n",
       "</div>"
      ],
      "text/plain": [
       "    Province/State         Country/Region        Lat       Long  1/22/20  \\\n",
       "0              NaN            Afghanistan  33.000000  65.000000        0   \n",
       "1              NaN                Albania  41.153300  20.168300        0   \n",
       "2              NaN                Algeria  28.033900   1.659600        0   \n",
       "3              NaN                Andorra  42.506300   1.521800        0   \n",
       "4              NaN                 Angola -11.202700  17.873900        0   \n",
       "..             ...                    ...        ...        ...      ...   \n",
       "261            NaN  Sao Tome and Principe   0.186360   6.613081        0   \n",
       "262            NaN                  Yemen  15.552727  48.516388        0   \n",
       "263            NaN                Comoros -11.645500  43.333300        0   \n",
       "264            NaN             Tajikistan  38.861034  71.276093        0   \n",
       "265            NaN                Lesotho -29.609988  28.233608        0   \n",
       "\n",
       "     1/23/20  1/24/20  1/25/20  1/26/20  1/27/20  ...  6/29/20  6/30/20  \\\n",
       "0          0        0        0        0        0  ...    31238    31517   \n",
       "1          0        0        0        0        0  ...     2466     2535   \n",
       "2          0        0        0        0        0  ...    13571    13907   \n",
       "3          0        0        0        0        0  ...      855      855   \n",
       "4          0        0        0        0        0  ...      276      284   \n",
       "..       ...      ...      ...      ...      ...  ...      ...      ...   \n",
       "261        0        0        0        0        0  ...      713      714   \n",
       "262        0        0        0        0        0  ...     1128     1158   \n",
       "263        0        0        0        0        0  ...      272      303   \n",
       "264        0        0        0        0        0  ...     5900     5900   \n",
       "265        0        0        0        0        0  ...       27       27   \n",
       "\n",
       "     7/1/20  7/2/20  7/3/20  7/4/20  7/5/20  7/6/20  7/7/20  7/8/20  \n",
       "0     31836   32022   32324   32672   32951   33190   33384   33594  \n",
       "1      2580    2662    2752    2819    2893    2964    3038    3106  \n",
       "2     14272   14657   15070   15500   15941   16404   16879   17348  \n",
       "3       855     855     855     855     855     855     855     855  \n",
       "4       291     315     328     346     346     346     386     386  \n",
       "..      ...     ...     ...     ...     ...     ...     ...     ...  \n",
       "261     715     717     719     719     720     721     724     724  \n",
       "262    1190    1221    1240    1248    1265    1284    1297    1318  \n",
       "263     303     303     309     309     311     311     311     313  \n",
       "264    6005    6058    6058    6159    6213    6262    6315    6364  \n",
       "265      35      35      35      35      79      91      91      91  \n",
       "\n",
       "[266 rows x 173 columns]"
      ]
     },
     "execution_count": 3,
     "metadata": {},
     "output_type": "execute_result"
    }
   ],
   "source": [
    "df"
   ]
  },
  {
   "cell_type": "code",
   "execution_count": 4,
   "metadata": {},
   "outputs": [],
   "source": [
    "# 日本のデータのみ抽出する\n",
    "df = df[df['Country/Region']=='Japan']"
   ]
  },
  {
   "cell_type": "code",
   "execution_count": 5,
   "metadata": {},
   "outputs": [],
   "source": [
    "# ５項目目以降（1/22以降）の項目のみにする\n",
    "df = df.iloc[:,4:].copy()\n",
    "#１行目の項目を取得\n",
    "daily_japan=df.iloc[0,:]\n",
    "# 日付型に変換\n",
    "daily_japan.index = pd.to_datetime(daily_japan.index)"
   ]
  },
  {
   "cell_type": "code",
   "execution_count": 6,
   "metadata": {},
   "outputs": [
    {
     "data": {
      "text/plain": [
       "2020-01-22        2\n",
       "2020-01-23        2\n",
       "2020-01-24        2\n",
       "2020-01-25        2\n",
       "2020-01-26        4\n",
       "              ...  \n",
       "2020-07-04    19461\n",
       "2020-07-05    19668\n",
       "2020-07-06    19848\n",
       "2020-07-07    20055\n",
       "2020-07-08    20261\n",
       "Name: 139, Length: 169, dtype: int64"
      ]
     },
     "execution_count": 6,
     "metadata": {},
     "output_type": "execute_result"
    }
   ],
   "source": [
    "daily_japan"
   ]
  },
  {
   "cell_type": "code",
   "execution_count": 19,
   "metadata": {},
   "outputs": [
    {
     "data": {
      "image/png": "[encoded data removed]",
      "text/plain": [
       "<Figure size 720x360 with 1 Axes>"
      ]
     },
     "metadata": {
      "needs_background": "light"
     },
     "output_type": "display_data"
    }
   ],
   "source": [
    "# 日本の感染者数のグラフ\n",
    "plt.figure(figsize=(10,5))\n",
    "plt.plot(daily_japan)\n",
    "plt.title(\"Japan COVID-19\")\n",
    "plt.grid(True)\n",
    "plt.ylabel(\"Person infected\")\n",
    "plt.show()"
   ]
  },
  {
   "cell_type": "code",
   "execution_count": 8,
   "metadata": {},
   "outputs": [],
   "source": [
    "y=daily_japan.values.astype(float)"
   ]
  },
  {
   "cell_type": "code",
   "execution_count": 9,
   "metadata": {},
   "outputs": [],
   "source": [
    "# 時系列データを７日をひとつのくくりとして、まとめる。\n",
    "# ８日目を正解ラベル\n",
    "def sequence_creator(input_data,window):\n",
    "    dataset=[]\n",
    "    data_len = len(input_data)\n",
    "    for i in range(data_len - window):\n",
    "        window_fr = input_data[i:i+window]\n",
    "        label = input_data[i+window:i+window+1]\n",
    "        dataset.append((window_fr,label))\n",
    "    return dataset"
   ]
  },
  {
   "cell_type": "code",
   "execution_count": 10,
   "metadata": {},
   "outputs": [],
   "source": [
    "# LSTMのモデリング\n",
    "class LSTM_COVID(nn.Module):\n",
    "    # in_size  ： 入力のノードのサイズ\n",
    "    # h_size   : 隠れ層のノードのサイズ　（誤差が少なくなるように調整する項目）\n",
    "    # out_size : 結果のノードのサイズ\n",
    "    def __init__(self, in_size=1, h_size=30, out_size=1):\n",
    "        super().__init__()\n",
    "        \n",
    "        self.h_size = h_size\n",
    "        self.lstm = nn.LSTM(in_size, h_size)\n",
    "        self.fc = nn.Linear(h_size,out_size)\n",
    "        \n",
    "        self.hidden = (torch.zeros(1,1,self.h_size), torch.zeros(1,1,self.h_size))\n",
    "        \n",
    "    def forward(self, sequence_data):\n",
    "        lstm_out, self.hidden = self.lstm(sequence_data.view(len(sequence_data),1,-1),self.hidden)\n",
    "        pred = self.fc(lstm_out.view(len(sequence_data),-1))\n",
    "        return pred[-1]"
   ]
  },
  {
   "cell_type": "markdown",
   "metadata": {},
   "source": [
    "# モデルの定義"
   ]
  },
  {
   "cell_type": "code",
   "execution_count": 24,
   "metadata": {},
   "outputs": [],
   "source": [
    "torch.manual_seed(3)\n",
    "\n",
    "model = LSTM_COVID()\n",
    "criterion = nn.MSELoss()\n",
    "# lr : lrlearning rate)=学習率　どれぐらいの幅でパラメータを更新していくのか（誤差が少なくなるように調整する項目）\n",
    "optimizer = torch.optim.Adam(model.parameters(), lr=0.0005)"
   ]
  },
  {
   "cell_type": "code",
   "execution_count": 25,
   "metadata": {},
   "outputs": [],
   "source": [
    "window_size = 7\n",
    "loss_list = []\n",
    "loss_temp = 0\n",
    "\n",
    "#model.train()"
   ]
  },
  {
   "cell_type": "code",
   "execution_count": 26,
   "metadata": {},
   "outputs": [],
   "source": [
    "# 入力の正規化 (-1 から1に収まるように)\n",
    "scaler = MinMaxScaler(feature_range=(-1,1))\n",
    "y_normalized = scaler.fit_transform(y.reshape(-1,1))\n",
    "y_normalized = torch.FloatTensor(y_normalized).view(-1)\n",
    "full_data = sequence_creator(y_normalized,window_size)"
   ]
  },
  {
   "cell_type": "markdown",
   "metadata": {},
   "source": [
    "# トレーニング"
   ]
  },
  {
   "cell_type": "code",
   "execution_count": 27,
   "metadata": {},
   "outputs": [
    {
     "name": "stdout",
     "output_type": "stream",
     "text": [
      "Epoch 10 Loss 0.03939441869288315\n",
      "Epoch 20 Loss 0.007171200528556918\n",
      "Epoch 30 Loss 0.00402716295218762\n",
      "Epoch 40 Loss 0.0020313287958686733\n",
      "Epoch 50 Loss 0.0008903348887408222\n",
      "Epoch 60 Loss 0.0006515546345416411\n",
      "Epoch 70 Loss 0.0006065727016072214\n",
      "Epoch 80 Loss 0.0006021023532490671\n",
      "Epoch 90 Loss 0.0006374630663130019\n",
      "Epoch 100 Loss 0.0007074593761820852\n",
      "Epoch 110 Loss 0.0007055514388614231\n",
      "Epoch 120 Loss 0.0006159992865574212\n",
      "Epoch 130 Loss 0.0005468304142539884\n",
      "Epoch 140 Loss 0.0005037646234771351\n",
      "Epoch 150 Loss 0.0004624119879286966\n",
      "Epoch 160 Loss 0.0004239291688542307\n",
      "Epoch 170 Loss 0.0003891705730814993\n",
      "Epoch 180 Loss 0.00035863367863643315\n",
      "Epoch 190 Loss 0.00033143144330860654\n",
      "Epoch 200 Loss 0.00030472330105157545\n",
      "Epoch 210 Loss 0.000281238243167783\n",
      "Epoch 220 Loss 0.00026181757818033663\n",
      "Epoch 230 Loss 0.00023882492088977202\n",
      "Epoch 240 Loss 0.00021730457191114074\n",
      "Epoch 250 Loss 0.00019780769024366215\n",
      "Epoch 260 Loss 0.00017959273155824636\n",
      "Epoch 270 Loss 0.00016270923761673917\n",
      "Epoch 280 Loss 0.0001460074734540633\n",
      "Epoch 290 Loss 0.0001330415591781522\n",
      "Epoch 300 Loss 0.00012249807700698758\n"
     ]
    }
   ],
   "source": [
    "# 学習の繰り返し\n",
    "epochs = 300\n",
    "for epoch in range(epochs):\n",
    "    # トレーニングデータの件数分ループする\n",
    "    for sequence_in, y_train in full_data:\n",
    "        # 予測値計算\n",
    "        y_pred = model(sequence_in)\n",
    "        # 損失計算\n",
    "        loss = criterion(y_pred, y_train)\n",
    "        loss_temp += loss\n",
    "        # 勾配を初期化する\n",
    "        optimizer.zero_grad()\n",
    "        model.hidden = (torch.zeros(1,1,model.h_size),torch.zeros(1,1,model.h_size))\n",
    "        # パラメータを更新する\n",
    "        loss.backward()\n",
    "        optimizer.step()\n",
    "        \n",
    "    if((epoch+1) % 10 ==0):\n",
    "        loss_list.append(loss_temp.item()/(10*len(full_data)))\n",
    "        print(f'Epoch {epoch+1} Loss {loss_temp.item()/(10*len(full_data))}')\n",
    "        loss_temp = 0\n"
   ]
  },
  {
   "cell_type": "code",
   "execution_count": 28,
   "metadata": {},
   "outputs": [
    {
     "data": {
      "text/plain": [
       "[<matplotlib.lines.Line2D at 0x16cfe76ef98>]"
      ]
     },
     "execution_count": 28,
     "metadata": {},
     "output_type": "execute_result"
    },
    {
     "data": {
      "image/png": "[encoded data removed]",
      "text/plain": [
       "<Figure size 432x288 with 1 Axes>"
      ]
     },
     "metadata": {
      "needs_background": "light"
     },
     "output_type": "display_data"
    }
   ],
   "source": [
    "# ロスのプロット\n",
    "plt.plot(loss_list)"
   ]
  },
  {
   "cell_type": "code",
   "execution_count": 29,
   "metadata": {},
   "outputs": [
    {
     "data": {
      "image/png": "[encoded data removed]",
      "text/plain": [
       "<Figure size 864x288 with 1 Axes>"
      ]
     },
     "metadata": {},
     "output_type": "display_data"
    }
   ],
   "source": [
    "# 将来の７日間の予測\n",
    "upcoming_future = 7\n",
    "predictions = y_normalized[-window_size:].tolist()\n",
    "\n",
    "model.eval()\n",
    "\n",
    "for i in range(upcoming_future):\n",
    "    sequence = torch.FloatTensor(predictions[-window_size:])\n",
    "    with torch.no_grad():\n",
    "        model.hidden = (torch.zeros(1,1,model.h_size),torch.zeros(1,1,model.h_size))\n",
    "        predictions.append(model(sequence).item())\n",
    "        \n",
    "predictions_y = scaler.inverse_transform(np.array(predictions).reshape(-1,1))\n",
    "x = np.arange('2020-07-09','2020-07-16', dtype='datetime64[D]').astype('datetime64[D]')\n",
    "sns.set()\n",
    "plt.figure(figsize = (12,4))\n",
    "plt.title(\"Japan COVID-19\")\n",
    "plt.grid(True)\n",
    "plt.ylabel(\"Person infected\")\n",
    "plt.plot(daily_japan)\n",
    "plt.plot(x,predictions_y[-window_size:])\n",
    "plt.show()"
   ]
  },
  {
   "cell_type": "code",
   "execution_count": 30,
   "metadata": {},
   "outputs": [
    {
     "data": {
      "text/plain": [
       "array([[20443.87687141],\n",
       "       [20582.13669842],\n",
       "       [20706.42781264],\n",
       "       [20828.58401293],\n",
       "       [20942.09187979],\n",
       "       [21032.94768202],\n",
       "       [21103.62323457]])"
      ]
     },
     "execution_count": 30,
     "metadata": {},
     "output_type": "execute_result"
    }
   ],
   "source": [
    "# 予測値\n",
    "predictions_y[-window_size:]"
   ]
  },
  {
   "cell_type": "code",
   "execution_count": null,
   "metadata": {},
   "outputs": [],
   "source": []
  }
 ],
 "metadata": {
  "kernelspec": {
   "display_name": "Python 3",
   "language": "python",
   "name": "python3"
  },
  "language_info": {
   "codemirror_mode": {
    "name": "ipython",
    "version": 3
   },
   "file_extension": ".py",
   "mimetype": "text/x-python",
   "name": "python",
   "nbconvert_exporter": "python",
   "pygments_lexer": "ipython3",
   "version": "3.7.1"
  }
 },
 "nbformat": 4,
 "nbformat_minor": 4
}
