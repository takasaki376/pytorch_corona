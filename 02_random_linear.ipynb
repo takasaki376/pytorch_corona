{
 "cells": [
  {
   "cell_type": "code",
   "execution_count": 1,
   "metadata": {},
   "outputs": [],
   "source": [
    "import torch\n",
    "# ニューラルネットワークの関数\n",
    "import torch.nn as nn\n",
    "import numpy as np\n",
    "from matplotlib import pyplot as plt\n",
    "from sklearn import datasets"
   ]
  },
  {
   "cell_type": "code",
   "execution_count": 4,
   "metadata": {},
   "outputs": [],
   "source": [
    "# テスト用のデータを生成\n",
    "X_gen , y_gen = datasets.make_regression(n_samples=100 , n_features=1 , noise=10 , random_state=1)"
   ]
  },
  {
   "cell_type": "code",
   "execution_count": 5,
   "metadata": {},
   "outputs": [],
   "source": [
    "# データの形式変換\n",
    "X = torch.from_numpy(X_gen.astype(np.float32))\n",
    "y = torch.from_numpy(y_gen.astype(np.float32))"
   ]
  },
  {
   "cell_type": "code",
   "execution_count": 6,
   "metadata": {},
   "outputs": [
    {
     "data": {
      "text/plain": [
       "<matplotlib.collections.PathCollection at 0x1eb67a01fc8>"
      ]
     },
     "execution_count": 6,
     "metadata": {},
     "output_type": "execute_result"
    },
    {
     "name": "stderr",
     "output_type": "stream",
     "text": [
      "findfont: Font family ['IPAexGothic'] not found. Falling back to DejaVu Sans.\n"
     ]
    },
    {
     "data": {
      "image/png": "[encoded data removed]",
      "text/plain": [
       "<Figure size 432x288 with 1 Axes>"
      ]
     },
     "metadata": {
      "needs_background": "light"
     },
     "output_type": "display_data"
    }
   ],
   "source": [
    "plt.scatter( X ,y)"
   ]
  },
  {
   "cell_type": "code",
   "execution_count": 7,
   "metadata": {},
   "outputs": [],
   "source": [
    "y = y.view(-1 ,1)"
   ]
  },
  {
   "cell_type": "code",
   "execution_count": 10,
   "metadata": {},
   "outputs": [],
   "source": [
    "# モデルの定義\n",
    "model = nn.Linear(1 , 1)"
   ]
  },
  {
   "cell_type": "code",
   "execution_count": 12,
   "metadata": {},
   "outputs": [],
   "source": [
    "# 損失をどうやって定義するのか\n",
    "#平均二乗和誤差\n",
    "criterion = nn.MSELoss()\n",
    "# 最適化のアルゴリズムの選択　（確率的勾配効果法（SGD：Stochastic Gradient Descent）\n",
    "## model.parameters  調整する値\n",
    "## lrlearning rate)=0.01 ：学習率　どれぐらいの幅でパラメータを更新していくのか\n",
    "optimizer = torch.optim.SGD(model.parameters() , lr=0.01)"
   ]
  },
  {
   "cell_type": "code",
   "execution_count": 19,
   "metadata": {},
   "outputs": [
    {
     "name": "stdout",
     "output_type": "stream",
     "text": [
      "epoch: 50, loss=1209.3068\n",
      "epoch: 100, loss=314.9894\n",
      "epoch: 150, loss=131.3505\n",
      "epoch: 200, loss=93.2289\n",
      "epoch: 250, loss=85.2606\n",
      "epoch: 300, loss=83.5880\n"
     ]
    }
   ],
   "source": [
    "epochs = 300\n",
    "loss_list = []\n",
    "\n",
    "for epoch in range(epochs):\n",
    "    # 予測値を計算する \n",
    "    y_pred = model(x)\n",
    "    # 損失の計算 (出力の結果；y_grad と 正解：yを渡す)\n",
    "    loss = criterion(y_pred ,y)\n",
    "    # 勾配を初期化する\n",
    "    optimizer.zero_grad()\n",
    "    # 損失を反映する\n",
    "    loss.backward()\n",
    "    optimizer.step()\n",
    "    \n",
    "    # 損失を表示する\n",
    "    loss_list.append(loss.item())\n",
    "    if (epoch +1) % 50 == 0:\n",
    "        print(f'epoch: {epoch+1}, loss={loss.item():.4f}')"
   ]
  },
  {
   "cell_type": "code",
   "execution_count": 20,
   "metadata": {},
   "outputs": [
    {
     "data": {
      "text/plain": [
       "[<matplotlib.lines.Line2D at 0x1eb67b64d88>]"
      ]
     },
     "execution_count": 20,
     "metadata": {},
     "output_type": "execute_result"
    },
    {
     "data": {
      "image/png": "[encoded data removed]",
      "text/plain": [
       "<Figure size 432x288 with 1 Axes>"
      ]
     },
     "metadata": {
      "needs_background": "light"
     },
     "output_type": "display_data"
    }
   ],
   "source": [
    "plt.plot(loss_list)"
   ]
  },
  {
   "cell_type": "markdown",
   "metadata": {},
   "source": [
    "# 予測後の結果をグラフ化"
   ]
  },
  {
   "cell_type": "code",
   "execution_count": 21,
   "metadata": {},
   "outputs": [
    {
     "data": {
      "image/png": "[encoded data removed]",
      "text/plain": [
       "<Figure size 432x288 with 1 Axes>"
      ]
     },
     "metadata": {
      "needs_background": "light"
     },
     "output_type": "display_data"
    }
   ],
   "source": [
    "# Pytorchの勾配が変わらないようにする\n",
    "with torch.no_grad():\n",
    "    predicted_y = model(x).detach().numpy()\n",
    "    \n",
    "    plt.plot(X_gen ,y_gen ,'go')\n",
    "    plt.plot(X_gen,predicted_y , 'b')"
   ]
  },
  {
   "cell_type": "code",
   "execution_count": 25,
   "metadata": {},
   "outputs": [
    {
     "name": "stdout",
     "output_type": "stream",
     "text": [
      "Parameter containing:\n",
      "tensor([[80.8630]], requires_grad=True)\n",
      "Parameter containing:\n",
      "tensor([2.1703], requires_grad=True)\n"
     ]
    }
   ],
   "source": [
    "# 重み\n",
    "print(model.weight)\n",
    "# バイアス\n",
    "print(model.bias)"
   ]
  },
  {
   "cell_type": "code",
   "execution_count": null,
   "metadata": {},
   "outputs": [],
   "source": []
  }
 ],
 "metadata": {
  "kernelspec": {
   "display_name": "Python 3",
   "language": "python",
   "name": "python3"
  },
  "language_info": {
   "codemirror_mode": {
    "name": "ipython",
    "version": 3
   },
   "file_extension": ".py",
   "mimetype": "text/x-python",
   "name": "python",
   "nbconvert_exporter": "python",
   "pygments_lexer": "ipython3",
   "version": "3.7.1"
  }
 },
 "nbformat": 4,
 "nbformat_minor": 4
}
